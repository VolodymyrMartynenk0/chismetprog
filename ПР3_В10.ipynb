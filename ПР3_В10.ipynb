{
  "nbformat": 4,
  "nbformat_minor": 0,
  "metadata": {
    "colab": {
      "provenance": []
    },
    "kernelspec": {
      "name": "python3",
      "display_name": "Python 3"
    },
    "language_info": {
      "name": "python"
    }
  },
  "cells": [
    {
      "cell_type": "code",
      "execution_count": 1,
      "metadata": {
        "id": "a_1PFgBW4pmv"
      },
      "outputs": [],
      "source": [
        "import numpy as np\n",
        "from scipy.misc import derivative\n",
        "def f(x):\n",
        "    return x**4-108*x-9"
      ]
    },
    {
      "cell_type": "code",
      "source": [
        "def find_segments(search_range):\n",
        "    a = None\n",
        "    previous_x = None\n",
        "    segments = []\n",
        "\n",
        "    for x in search_range:\n",
        "        current_x = f(x)\n",
        "\n",
        "        if previous_x is not None:\n",
        "            if previous_x == 0:\n",
        "                segments.append((a, x))\n",
        "            elif previous_x * current_x < 0:\n",
        "                segments.append((a, x))\n",
        "\n",
        "        a = x\n",
        "        previous_x = current_x\n",
        "\n",
        "    return segments\n",
        "\n",
        "search_range = np.arange(-10, 10, 1)\n",
        "\n",
        "segments = find_segments(search_range)"
      ],
      "metadata": {
        "id": "Tww8RONZ4wWI"
      },
      "execution_count": 2,
      "outputs": []
    },
    {
      "cell_type": "code",
      "source": [
        "def combined_method(f, a, b, eps=0.0001):\n",
        "    x = (a + b) / 2\n",
        "    while True:\n",
        "        f_prime = derivative(f, x, dx=1e-6)\n",
        "        if abs(f_prime) < 1e-10:\n",
        "            return None\n",
        "\n",
        "        x_newton = x - f(x) / f_prime\n",
        "        if a <= x_newton <= b:\n",
        "            x = x_newton\n",
        "        else:\n",
        "            return None\n",
        "\n",
        "        if abs(f(x)) < eps:\n",
        "            return print(f\"combined method x = {round(x, 4)}\")\n"
      ],
      "metadata": {
        "id": "cDfHZz_94zIk"
      },
      "execution_count": 3,
      "outputs": []
    },
    {
      "cell_type": "code",
      "source": [
        "def newton_method(f, a, b, eps=0.0001):\n",
        "    x = (a + b) / 2\n",
        "\n",
        "    while True:\n",
        "        f_prime = derivative(f, x, dx=1e-6)\n",
        "        if abs(f_prime) < 1e-10:\n",
        "            break\n",
        "\n",
        "        x = x - f(x) / f_prime\n",
        "\n",
        "        if abs(f(x)) < eps:\n",
        "            print(f\"newton method x = {round(x, 4)}\")\n",
        "            break"
      ],
      "metadata": {
        "id": "gWM3SMgu41VE"
      },
      "execution_count": 4,
      "outputs": []
    },
    {
      "cell_type": "code",
      "source": [
        "for a, b in segments:\n",
        "    newton_method(f, a, b)\n",
        "    combined_method(f, a, b)"
      ],
      "metadata": {
        "colab": {
          "base_uri": "https://localhost:8080/"
        },
        "id": "KBNIx20745K8",
        "outputId": "73a4eb78-0642-4e94-90d7-9b2397519f07"
      },
      "execution_count": 5,
      "outputs": [
        {
          "output_type": "stream",
          "name": "stdout",
          "text": [
            "newton method x = -0.0833\n",
            "combined method x = -0.0833\n",
            "newton method x = 4.7897\n",
            "combined method x = 4.7897\n"
          ]
        },
        {
          "output_type": "stream",
          "name": "stderr",
          "text": [
            "<ipython-input-4-9184bb0786b5>:5: DeprecationWarning: scipy.misc.derivative is deprecated in SciPy v1.10.0; and will be completely removed in SciPy v1.12.0. You may consider using findiff: https://github.com/maroba/findiff or numdifftools: https://github.com/pbrod/numdifftools\n",
            "  f_prime = derivative(f, x, dx=1e-6)\n",
            "<ipython-input-3-5f43b91d28bb>:4: DeprecationWarning: scipy.misc.derivative is deprecated in SciPy v1.10.0; and will be completely removed in SciPy v1.12.0. You may consider using findiff: https://github.com/maroba/findiff or numdifftools: https://github.com/pbrod/numdifftools\n",
            "  f_prime = derivative(f, x, dx=1e-6)\n"
          ]
        }
      ]
    }
  ]
}