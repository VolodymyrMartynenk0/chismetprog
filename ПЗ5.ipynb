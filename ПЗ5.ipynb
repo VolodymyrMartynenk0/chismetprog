{
  "nbformat": 4,
  "nbformat_minor": 0,
  "metadata": {
    "colab": {
      "provenance": []
    },
    "kernelspec": {
      "name": "python3",
      "display_name": "Python 3"
    },
    "language_info": {
      "name": "python"
    }
  },
  "cells": [
    {
      "cell_type": "code",
      "source": [
        "import math\n",
        "from scipy import optimize\n",
        "\n",
        "xmin = 1.3\n",
        "ymin = -1.8\n",
        "\n",
        "xmax = 1.4\n",
        "ymax = -1.7\n",
        "\n",
        "eps = 0.0001\n",
        "\n",
        "def eq1(x):\n",
        "  return math.sin(x+2)-1.5\n",
        "\n",
        "def eq2(y):\n",
        "  return 0.5-math.cos(y-2)\n",
        "\n",
        "def iteration_method(x, y, eps):\n",
        "    curr_y = y\n",
        "    curr_x = x\n",
        "    next_y = eq1(curr_x)\n",
        "    next_x = eq2(curr_y)\n",
        "    iters = 1\n",
        "    while(abs(next_x-curr_x)>=eps) and (abs(next_y-curr_y)>=eps):\n",
        "        curr_x = next_x\n",
        "        curr_y = next_y\n",
        "        next_y = eq1(curr_x)\n",
        "        next_x = eq2(curr_y)\n",
        "        iters += 1\n",
        "    print(f\"iteration method roots: {curr_x}, {curr_y}, iters = {iters}\")\n",
        "iteration_method((xmin+xmax)*0.5, (ymax+ymin)*0.5, eps)\n",
        "def eq_check(x):\n",
        "    return math.sin(x[0]+2)-x[1]-1.5, 0.5-x[0]-math.cos(x[1]-2)\n",
        "\n",
        "s = optimize.root(eq_check, [(xmin+xmax)*0.5, (ymax+ymin)*0.5], method = 'hybr', tol = 0.0001)\n",
        "print ('Chek',s.x)"
      ],
      "metadata": {
        "colab": {
          "base_uri": "https://localhost:8080/"
        },
        "id": "0XhpLiM7Fby1",
        "outputId": "f457a61a-ee16-4eed-a068-33230ff0ad3d"
      },
      "execution_count": 89,
      "outputs": [
        {
          "output_type": "stream",
          "name": "stdout",
          "text": [
            "iteration method roots: 1.3463271758356554, -1.7031810282621966, iters = 19\n",
            "Chek [ 1.34633765 -1.70331749]\n"
          ]
        }
      ]
    }
  ]
}