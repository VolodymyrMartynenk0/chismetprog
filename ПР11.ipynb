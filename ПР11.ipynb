{
  "nbformat": 4,
  "nbformat_minor": 0,
  "metadata": {
    "colab": {
      "provenance": []
    },
    "kernelspec": {
      "name": "python3",
      "display_name": "Python 3"
    },
    "language_info": {
      "name": "python"
    }
  },
  "cells": [
    {
      "cell_type": "code",
      "execution_count": 12,
      "metadata": {
        "colab": {
          "base_uri": "https://localhost:8080/"
        },
        "id": "y3yJGRZ834FY",
        "outputId": "1888d6a0-c993-461a-9b2e-d114d58b334b"
      },
      "outputs": [
        {
          "output_type": "stream",
          "name": "stdout",
          "text": [
            "Метод правих прямокутників: 1.5790\n",
            "Метод лівих прямокутників: 1.5789\n",
            "Метод середніх прямокутників: 1.5790\n",
            "Перевірка 1.5790\n"
          ]
        }
      ],
      "source": [
        "# Мартиненко Володимир\n",
        "# ФІТ 2-10\n",
        "# Варіант 10\n",
        "\n",
        "# Метод прямокутників\n",
        "\n",
        "import numpy\n",
        "from scipy import integrate\n",
        "\n",
        "a = 0.6\n",
        "b = 1.5\n",
        "eps = 0.0001\n",
        "\n",
        "def func(x):\n",
        "    return (2*x+1)**0.5\n",
        "\n",
        "def right_rectangle_method(a, b, n):\n",
        "    h = (b - a) / n\n",
        "    result = 0\n",
        "    for i in range(1, n + 1):\n",
        "        result += func(a + i * h)\n",
        "    result *= h\n",
        "    return result\n",
        "\n",
        "def left_rectangle_method(a, b, n):\n",
        "    h = (b - a) / n\n",
        "    result = 0\n",
        "    for i in range(n):\n",
        "        result += func(a + i * h)\n",
        "    result *= h\n",
        "    return result\n",
        "\n",
        "def middle_rectangle_method(a, b, n):\n",
        "    h = (b - a) / n\n",
        "    result = 0\n",
        "    for i in range(n):\n",
        "        result += func(a + (i + 0.5) * h)\n",
        "    result *= h\n",
        "    return result\n",
        "\n",
        "def integrate_with_eps(a, b, eps):\n",
        "    n = 10\n",
        "    prev_result = None\n",
        "    while True:\n",
        "        result_right = right_rectangle_method(a, b, n)\n",
        "        result_left = left_rectangle_method(a, b, n)\n",
        "        result_middle = middle_rectangle_method(a, b, n)\n",
        "\n",
        "        if prev_result is not None and abs(result_right - prev_result) < eps:\n",
        "            break\n",
        "\n",
        "        prev_result = result_right\n",
        "        n *= 2\n",
        "\n",
        "    return result_right, result_left, result_middle\n",
        "\n",
        "v,err = integrate.quad(func,a,b) #Перевірка\n",
        "\n",
        "result_right, result_left, result_middle = integrate_with_eps(a, b, eps)\n",
        "\n",
        "print(f\"Метод правих прямокутників: {result_right:.4f}\")\n",
        "print(f\"Метод лівих прямокутників: {result_left:.4f}\")\n",
        "print(f\"Метод середніх прямокутників: {result_middle:.4f}\")\n",
        "print(f\"Перевірка {v:.4f}\")"
      ]
    },
    {
      "cell_type": "code",
      "source": [
        "# Метод Сімпсона\n",
        "\n",
        "def func(x):\n",
        "  return (numpy.tan(x**2+0.5))/(1+2*x**2)\n",
        "\n",
        "a = 0.4\n",
        "b = 0.8\n",
        "eps = 0.0001\n",
        "\n",
        "def simpson_method(a, b, n):\n",
        "    h = (b - a) / n\n",
        "    result = func(a) + func(b)\n",
        "    for i in range(1, n):\n",
        "        if i % 2 == 0:\n",
        "            result += 2 * func(a + i * h)\n",
        "        else:\n",
        "            result += 4 * func(a + i * h)\n",
        "    result *= h / 3\n",
        "    return result\n",
        "\n",
        "def integrate_with_eps_simpson(a, b, eps):\n",
        "    n = 8\n",
        "    prev_result = None\n",
        "    while True:\n",
        "        result_simpson = simpson_method(a, b, n)\n",
        "        if prev_result is not None and abs(result_simpson - prev_result) < eps:\n",
        "            break\n",
        "        prev_result = result_simpson\n",
        "        n *= 2\n",
        "    return result_simpson\n",
        "\n",
        "v,err = integrate.quad(func,a,b) #Перевірка\n",
        "result_simpson = integrate_with_eps_simpson(a, b, eps)\n",
        "\n",
        "print(f\"Метод Сімпсона: {result_simpson:.4f}\")\n",
        "print(f\"Перевірка: {v:.4f}\")"
      ],
      "metadata": {
        "colab": {
          "base_uri": "https://localhost:8080/"
        },
        "id": "awHAQcvS3-Ob",
        "outputId": "30e8fce2-466d-4c4d-9512-2fcd94ca81a0"
      },
      "execution_count": 16,
      "outputs": [
        {
          "output_type": "stream",
          "name": "stdout",
          "text": [
            "Метод Сімпсона: 0.2817\n",
            "Перевірка: 0.2817\n"
          ]
        }
      ]
    },
    {
      "cell_type": "code",
      "source": [
        "# Метод Трапецій\n",
        "\n",
        "a = 0.8\n",
        "b = 1.7\n",
        "eps = 0.0001\n",
        "\n",
        "def func(x):\n",
        "    return 1/numpy.sqrt(2 * x**2 + 0.3)\n",
        "\n",
        "def trapezoidal_method(a, b, n):\n",
        "    h = (b - a) / n\n",
        "    result = (func(a) + func(b)) / 2\n",
        "\n",
        "    for i in range(1, n):\n",
        "        result += func(a + i * h)\n",
        "\n",
        "    result *= h\n",
        "    return result\n",
        "\n",
        "def integrate_with_eps_trapezoidal(a, b, eps):\n",
        "    n = 20\n",
        "    prev_result = None\n",
        "    while True:\n",
        "        result_trapezoidal = trapezoidal_method(a, b, n)\n",
        "        if prev_result is not None and abs(result_trapezoidal - prev_result) < eps:\n",
        "            break\n",
        "        prev_result = result_trapezoidal\n",
        "        n *= 2\n",
        "\n",
        "    return result_trapezoidal\n",
        "\n",
        "result_trapezoidal = integrate_with_eps_trapezoidal(a, b, eps)\n",
        "v,err = integrate.quad(func,a,b) #Перевірка\n",
        "\n",
        "print(f\"Метод трапеций: {result_trapezoidal:.4f}\")\n",
        "print(f\"Перевірка: {v:.4f}\")"
      ],
      "metadata": {
        "colab": {
          "base_uri": "https://localhost:8080/"
        },
        "id": "UH0dgIcg9tUI",
        "outputId": "efc27414-b90b-4e4b-8397-926c93912f97"
      },
      "execution_count": 18,
      "outputs": [
        {
          "output_type": "stream",
          "name": "stdout",
          "text": [
            "Метод трапеций: 0.5038\n",
            "Перевірка: 0.5038\n"
          ]
        }
      ]
    }
  ]
}