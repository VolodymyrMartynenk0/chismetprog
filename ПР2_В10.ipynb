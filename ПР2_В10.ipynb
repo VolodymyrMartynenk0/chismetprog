{
  "nbformat": 4,
  "nbformat_minor": 0,
  "metadata": {
    "colab": {
      "provenance": []
    },
    "kernelspec": {
      "name": "python3",
      "display_name": "Python 3"
    },
    "language_info": {
      "name": "python"
    }
  },
  "cells": [
    {
      "cell_type": "code",
      "execution_count": 6,
      "metadata": {
        "colab": {
          "base_uri": "https://localhost:8080/"
        },
        "id": "ccsgSQ0F6gJK",
        "outputId": "a50be937-9c86-4a86-f5fa-247daf836df6"
      },
      "outputs": [
        {
          "output_type": "stream",
          "name": "stdout",
          "text": [
            "[(-1, 0), (4, 5)]\n"
          ]
        }
      ],
      "source": [
        "import numpy as np\n",
        "\n",
        "def f(x):\n",
        "    return x**4-108*x-9\n",
        "\n",
        "def find_segments(search_range):\n",
        "    a = None\n",
        "    previous_x = None\n",
        "    segments = []\n",
        "\n",
        "    for x in search_range:\n",
        "        current_x = f(x)\n",
        "\n",
        "        if previous_x is not None:\n",
        "            if previous_x == 0:\n",
        "                segments.append((a, x))\n",
        "            elif previous_x * current_x < 0:\n",
        "                segments.append((a, x))\n",
        "\n",
        "        a = x\n",
        "        previous_x = current_x\n",
        "\n",
        "    return segments\n",
        "\n",
        "search_range = np.arange(-10, 10, 1)\n",
        "\n",
        "segments = find_segments(search_range)"
      ]
    },
    {
      "cell_type": "code",
      "source": [
        "def bisection(func, a, b, eps=0.0001):\n",
        "    if func(a) * func(b) >= 0:\n",
        "        raise ValueError(\"Значення функції на критичних точках мають змінювати знак\")\n",
        "\n",
        "    iteration = 0\n",
        "    while (b - a) / 2.0 > eps:\n",
        "        midpoint = (a + b) / 2.0\n",
        "        if func(midpoint) == 0:\n",
        "            return midpoint\n",
        "        elif func(a) * func(midpoint) < 0:\n",
        "            b = midpoint\n",
        "        else:\n",
        "            a = midpoint\n",
        "        iteration += 1\n",
        "    result = round((a + b)/2.0, 4)\n",
        "    print(f\"Half-division method x = {result}\")"
      ],
      "metadata": {
        "id": "b5ZQb1WjJHzN"
      },
      "execution_count": 3,
      "outputs": []
    },
    {
      "cell_type": "code",
      "source": [
        "def chord_method(func, a, b, eps=0.0001):\n",
        "    iter_count = 0\n",
        "    while True:\n",
        "        iter_count += 1\n",
        "        x_next = a - (func(a) * (a - b)) / (func(a) - func(b))\n",
        "\n",
        "        if abs(x_next - a) < eps:\n",
        "            return x_next\n",
        "        b, a = a, x_next"
      ],
      "metadata": {
        "id": "3M3vlwv7JMNU"
      },
      "execution_count": 4,
      "outputs": []
    },
    {
      "cell_type": "code",
      "source": [
        "for a, b in segments:\n",
        "    bisection(f, a, b)\n",
        "    x = round(chord_method(f, a, b), 4)\n",
        "    print(f\"Chord method x = {x}\")"
      ],
      "metadata": {
        "colab": {
          "base_uri": "https://localhost:8080/"
        },
        "id": "MrhZtexUJRas",
        "outputId": "68c3af9d-6616-40cf-a64e-b4a05530f15d"
      },
      "execution_count": 5,
      "outputs": [
        {
          "output_type": "stream",
          "name": "stdout",
          "text": [
            "Half-division method x = -0.0833\n",
            "Chord method x = -0.0833\n",
            "Half-division method x = 4.7896\n",
            "Chord method x = 4.7897\n"
          ]
        }
      ]
    }
  ]
}