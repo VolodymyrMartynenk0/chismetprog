{
  "nbformat": 4,
  "nbformat_minor": 0,
  "metadata": {
    "colab": {
      "provenance": []
    },
    "kernelspec": {
      "name": "python3",
      "display_name": "Python 3"
    },
    "language_info": {
      "name": "python"
    }
  },
  "cells": [
    {
      "cell_type": "code",
      "execution_count": 2,
      "metadata": {
        "colab": {
          "base_uri": "https://localhost:8080/"
        },
        "id": "N0BMi_ZMRmB8",
        "outputId": "48ee7cd2-2360-4604-f83a-0451b6f616d7"
      },
      "outputs": [
        {
          "output_type": "stream",
          "name": "stdout",
          "text": [
            "[[ 4 -8]\n",
            " [12 -4]]\n"
          ]
        }
      ],
      "source": [
        "import numpy\n",
        "\n",
        "a = numpy.array([[1, 2], [4, -1]])\n",
        "b = numpy.array([[2, -3],[-4, 1]])\n",
        "\n",
        "print(a@b-b@a)"
      ]
    },
    {
      "cell_type": "code",
      "source": [
        "a = numpy.array([[-1, 2], [0, 1]])\n",
        "print(a@a)"
      ],
      "metadata": {
        "colab": {
          "base_uri": "https://localhost:8080/"
        },
        "id": "_Z8pUepZSYdf",
        "outputId": "fe48beaa-f2ad-4b03-9260-1be95d76051f"
      },
      "execution_count": 3,
      "outputs": [
        {
          "output_type": "stream",
          "name": "stdout",
          "text": [
            "[[1 0]\n",
            " [0 1]]\n"
          ]
        }
      ]
    },
    {
      "cell_type": "code",
      "source": [
        "a = numpy.array([[3, 5], [6, -1]])\n",
        "b = numpy.array([[2, 1],[-3, 2]])\n",
        "\n",
        "print(a@b)"
      ],
      "metadata": {
        "colab": {
          "base_uri": "https://localhost:8080/"
        },
        "id": "9Fp7DWVoTCc9",
        "outputId": "cc3c243e-2795-4664-fd1c-495c27462332"
      },
      "execution_count": 4,
      "outputs": [
        {
          "output_type": "stream",
          "name": "stdout",
          "text": [
            "[[-9 13]\n",
            " [15  4]]\n"
          ]
        }
      ]
    },
    {
      "cell_type": "code",
      "source": [
        "a = numpy.array([[2, 3, 4],[1, 0, 6],[7, 8, 9]])\n",
        "\n",
        "print(numpy.linalg.det(a))"
      ],
      "metadata": {
        "colab": {
          "base_uri": "https://localhost:8080/"
        },
        "id": "brnVWc5uUHn9",
        "outputId": "96e5de5c-4bc1-4f7d-d102-8a0810143970"
      },
      "execution_count": 5,
      "outputs": [
        {
          "output_type": "stream",
          "name": "stdout",
          "text": [
            "35.00000000000001\n"
          ]
        }
      ]
    },
    {
      "cell_type": "code",
      "source": [
        "a = numpy.array([[2, 3, 4, 1],[1, 2, 3, 4],[3, 4, 2, 1],[4, 1, 2, 3]])\n",
        "\n",
        "print(numpy.linalg.det(a))"
      ],
      "metadata": {
        "colab": {
          "base_uri": "https://localhost:8080/"
        },
        "id": "CIp-dQPtUJQ1",
        "outputId": "844845f9-7a5e-48ca-de85-0dde3a2d7eb8"
      },
      "execution_count": 6,
      "outputs": [
        {
          "output_type": "stream",
          "name": "stdout",
          "text": [
            "-119.99999999999997\n"
          ]
        }
      ]
    },
    {
      "cell_type": "code",
      "source": [
        "a = numpy.array([[1, 2, -3],[0, 1, 2],[0, 0, 1]])\n",
        "\n",
        "print(numpy.linalg.inv(a))"
      ],
      "metadata": {
        "colab": {
          "base_uri": "https://localhost:8080/"
        },
        "id": "Pi3fmdaqU3is",
        "outputId": "5405cd80-346c-467d-82dc-1beca15694da"
      },
      "execution_count": 7,
      "outputs": [
        {
          "output_type": "stream",
          "name": "stdout",
          "text": [
            "[[ 1. -2.  7.]\n",
            " [ 0.  1. -2.]\n",
            " [ 0.  0.  1.]]\n"
          ]
        }
      ]
    },
    {
      "cell_type": "code",
      "source": [
        "a = numpy.array([[1, 2, 3 ,4], [3, -1, 2, 5], [1, 2, 3, 4], [1, 3, 4, 5]])\n",
        "\n",
        "print(numpy.linalg.matrix_rank(a))"
      ],
      "metadata": {
        "colab": {
          "base_uri": "https://localhost:8080/"
        },
        "id": "btXWTWd-VRc0",
        "outputId": "3085a81b-29e3-43e3-d002-f515b29b7981"
      },
      "execution_count": 8,
      "outputs": [
        {
          "output_type": "stream",
          "name": "stdout",
          "text": [
            "2\n"
          ]
        }
      ]
    },
    {
      "cell_type": "code",
      "source": [
        "a = numpy.array([[3, 2, 1],\n",
        "                 [2, -1, 1],\n",
        "                 [1, 5, 0]])\n",
        "\n",
        "b = numpy.array([5, 6, -3])\n",
        "\n",
        "def matrix_method(a, b):\n",
        "    det_a = numpy.linalg.det(a)\n",
        "\n",
        "    if det_a == 0:\n",
        "        print(\"Система має або нескінченно багато рішень, або немає рішень.\")\n",
        "    else:\n",
        "        a_inv = numpy.linalg.inv(a)\n",
        "\n",
        "        solutions = numpy.dot(a_inv, b)\n",
        "    return solutions\n",
        "\n",
        "def kramer_method(coeff_matrix, rhs_vector):\n",
        "    det_main = numpy.linalg.det(coeff_matrix)\n",
        "\n",
        "    solutions = []\n",
        "\n",
        "    for i in range(coeff_matrix.shape[1]):\n",
        "        temp_matrix = numpy.copy(coeff_matrix)\n",
        "        temp_matrix[:, i] = rhs_vector\n",
        "        det_temp = numpy.linalg.det(temp_matrix)\n",
        "        solution = det_temp / det_main\n",
        "        solutions.append(round(solution, 1))\n",
        "\n",
        "    return solutions\n",
        "print(f\"Метод Крамера: {kramer_method(a, b)}\")\n",
        "print(f\"Матричний метод: {matrix_method(a, b)}\")\n",
        "print(f\"Перевірка рішення: {numpy.linalg.solve(a, b)}\")"
      ],
      "metadata": {
        "colab": {
          "base_uri": "https://localhost:8080/"
        },
        "id": "kuwR9UfXaQIt",
        "outputId": "28298a04-f28a-4716-f594-ed06e00f0228"
      },
      "execution_count": 10,
      "outputs": [
        {
          "output_type": "stream",
          "name": "stdout",
          "text": [
            "Метод Крамера: [2.0, -1.0, 1.0]\n",
            "Матричний метод: [ 2. -1.  1.]\n",
            "Перевірка рішення: [ 2. -1.  1.]\n"
          ]
        }
      ]
    },
    {
      "cell_type": "code",
      "source": [
        "a = numpy.random.randint(10, size=(4, 5))\n",
        "print(f\"Матриця:\\n{a}\")\n",
        "print(f\"Середні значення для стовпців: {numpy.mean(a, axis=0)}\")\n",
        "print(f\"Середні значення для рядків{numpy.mean(a, axis=1)}\")\n"
      ],
      "metadata": {
        "colab": {
          "base_uri": "https://localhost:8080/"
        },
        "id": "Mvn8CStuaSw0",
        "outputId": "9b305730-c4d5-48fb-accb-af7bc2b126c4"
      },
      "execution_count": 11,
      "outputs": [
        {
          "output_type": "stream",
          "name": "stdout",
          "text": [
            "Матриця:\n",
            "[[8 8 9 3 3]\n",
            " [9 2 6 4 6]\n",
            " [3 5 2 4 1]\n",
            " [8 4 6 1 9]]\n",
            "Середні значення для стовпців: [7.   4.75 5.75 3.   4.75]\n",
            "Середні значення для рядків[6.2 5.4 3.  5.6]\n"
          ]
        }
      ]
    }
  ]
}